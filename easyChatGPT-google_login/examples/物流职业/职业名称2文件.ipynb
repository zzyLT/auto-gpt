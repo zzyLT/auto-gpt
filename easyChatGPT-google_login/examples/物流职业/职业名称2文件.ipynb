{
 "cells": [
  {
   "cell_type": "code",
   "execution_count": 4,
   "id": "d9c5cf4e",
   "metadata": {},
   "outputs": [],
   "source": [
    "import pandas as pd\n",
    "\n",
    "names = \"\"\"配送员\n",
    "物流专员\n",
    "物流主管\n",
    "物流项目专员\n",
    "物流经理\n",
    "货代专员\n",
    "货代经理\n",
    "水陆/空运操作员\n",
    "仓储主管\n",
    "物流项目主管\n",
    "供应链经理\n",
    "关务专员\n",
    "项目主管\n",
    "采购专员\n",
    "采购主管\n",
    "采购经理\n",
    "采购总监\n",
    "客户总监\n",
    "仓储管理员\n",
    "仓储经理\n",
    "拣货员\n",
    "物流项目经理\n",
    "物流总监\n",
    "物料专员\n",
    "物料主管\n",
    "物料经理\n",
    "贸易专员\n",
    "贸易主管\n",
    "贸易经理\n",
    "外贸专员\n",
    "外贸主管\n",
    "外贸经理\n",
    "关务经理\n",
    "核销员\n",
    "安检员\n",
    "集装箱管理员\n",
    "供应商管理\n",
    "供应链专员\n",
    "供应链主管\n",
    "供应链总监\n",
    "调度员\"\"\".split('\\n')\n",
    "\n",
    "pd.DataFrame(names, columns=['name']).to_csv('40names.csv')"
   ]
  },
  {
   "cell_type": "code",
   "execution_count": 3,
   "id": "78dc7e0f",
   "metadata": {},
   "outputs": [
    {
     "data": {
      "text/plain": [
       "41"
      ]
     },
     "execution_count": 3,
     "metadata": {},
     "output_type": "execute_result"
    }
   ],
   "source": [
    "len(names)"
   ]
  }
 ],
 "metadata": {
  "kernelspec": {
   "display_name": "Python 3 (ipykernel)",
   "language": "python",
   "name": "python3"
  },
  "language_info": {
   "codemirror_mode": {
    "name": "ipython",
    "version": 3
   },
   "file_extension": ".py",
   "mimetype": "text/x-python",
   "name": "python",
   "nbconvert_exporter": "python",
   "pygments_lexer": "ipython3",
   "version": "3.10.9"
  }
 },
 "nbformat": 4,
 "nbformat_minor": 5
}
